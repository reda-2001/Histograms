{
 "cells": [
  {
   "cell_type": "code",
   "execution_count": 1,
   "id": "c13bdc22",
   "metadata": {},
   "outputs": [],
   "source": [
    "import pandas as pd\n",
    "import numpy as np\n",
    "import matplotlib.pyplot as plt\n",
    "import seaborn as sns"
   ]
  },
  {
   "cell_type": "code",
   "execution_count": 3,
   "id": "21adca8c",
   "metadata": {},
   "outputs": [
    {
     "data": {
      "text/html": [
       "<div>\n",
       "<style scoped>\n",
       "    .dataframe tbody tr th:only-of-type {\n",
       "        vertical-align: middle;\n",
       "    }\n",
       "\n",
       "    .dataframe tbody tr th {\n",
       "        vertical-align: top;\n",
       "    }\n",
       "\n",
       "    .dataframe thead th {\n",
       "        text-align: right;\n",
       "    }\n",
       "</style>\n",
       "<table border=\"1\" class=\"dataframe\">\n",
       "  <thead>\n",
       "    <tr style=\"text-align: right;\">\n",
       "      <th></th>\n",
       "      <th>A</th>\n",
       "      <th>B</th>\n",
       "      <th>C</th>\n",
       "      <th>D</th>\n",
       "      <th>Left Skew</th>\n",
       "      <th>Multimodal</th>\n",
       "      <th>IQ20</th>\n",
       "      <th>IQ100</th>\n",
       "    </tr>\n",
       "  </thead>\n",
       "  <tbody>\n",
       "    <tr>\n",
       "      <th>131</th>\n",
       "      <td>NaN</td>\n",
       "      <td>NaN</td>\n",
       "      <td>NaN</td>\n",
       "      <td>NaN</td>\n",
       "      <td>NaN</td>\n",
       "      <td>70.623289</td>\n",
       "      <td>NaN</td>\n",
       "      <td>NaN</td>\n",
       "    </tr>\n",
       "    <tr>\n",
       "      <th>51</th>\n",
       "      <td>60.780544</td>\n",
       "      <td>67.600037</td>\n",
       "      <td>44.067535</td>\n",
       "      <td>54.436214</td>\n",
       "      <td>13.4</td>\n",
       "      <td>48.054349</td>\n",
       "      <td>NaN</td>\n",
       "      <td>107.472467</td>\n",
       "    </tr>\n",
       "    <tr>\n",
       "      <th>81</th>\n",
       "      <td>44.536195</td>\n",
       "      <td>62.042723</td>\n",
       "      <td>67.026176</td>\n",
       "      <td>49.220052</td>\n",
       "      <td>27.7</td>\n",
       "      <td>51.102779</td>\n",
       "      <td>NaN</td>\n",
       "      <td>87.491479</td>\n",
       "    </tr>\n",
       "    <tr>\n",
       "      <th>16</th>\n",
       "      <td>41.224972</td>\n",
       "      <td>64.451956</td>\n",
       "      <td>51.635171</td>\n",
       "      <td>45.745160</td>\n",
       "      <td>15.7</td>\n",
       "      <td>55.066509</td>\n",
       "      <td>94.079305</td>\n",
       "      <td>105.352164</td>\n",
       "    </tr>\n",
       "    <tr>\n",
       "      <th>130</th>\n",
       "      <td>NaN</td>\n",
       "      <td>NaN</td>\n",
       "      <td>NaN</td>\n",
       "      <td>NaN</td>\n",
       "      <td>NaN</td>\n",
       "      <td>72.334656</td>\n",
       "      <td>NaN</td>\n",
       "      <td>NaN</td>\n",
       "    </tr>\n",
       "    <tr>\n",
       "      <th>36</th>\n",
       "      <td>50.475887</td>\n",
       "      <td>61.603100</td>\n",
       "      <td>64.656774</td>\n",
       "      <td>47.396334</td>\n",
       "      <td>29.9</td>\n",
       "      <td>52.203127</td>\n",
       "      <td>NaN</td>\n",
       "      <td>93.600727</td>\n",
       "    </tr>\n",
       "    <tr>\n",
       "      <th>156</th>\n",
       "      <td>NaN</td>\n",
       "      <td>NaN</td>\n",
       "      <td>NaN</td>\n",
       "      <td>NaN</td>\n",
       "      <td>NaN</td>\n",
       "      <td>71.131315</td>\n",
       "      <td>NaN</td>\n",
       "      <td>NaN</td>\n",
       "    </tr>\n",
       "    <tr>\n",
       "      <th>167</th>\n",
       "      <td>NaN</td>\n",
       "      <td>NaN</td>\n",
       "      <td>NaN</td>\n",
       "      <td>NaN</td>\n",
       "      <td>NaN</td>\n",
       "      <td>74.983422</td>\n",
       "      <td>NaN</td>\n",
       "      <td>NaN</td>\n",
       "    </tr>\n",
       "    <tr>\n",
       "      <th>128</th>\n",
       "      <td>NaN</td>\n",
       "      <td>NaN</td>\n",
       "      <td>NaN</td>\n",
       "      <td>NaN</td>\n",
       "      <td>NaN</td>\n",
       "      <td>67.906482</td>\n",
       "      <td>NaN</td>\n",
       "      <td>NaN</td>\n",
       "    </tr>\n",
       "    <tr>\n",
       "      <th>33</th>\n",
       "      <td>50.740454</td>\n",
       "      <td>73.122864</td>\n",
       "      <td>78.947472</td>\n",
       "      <td>45.893531</td>\n",
       "      <td>25.7</td>\n",
       "      <td>50.348425</td>\n",
       "      <td>NaN</td>\n",
       "      <td>69.763146</td>\n",
       "    </tr>\n",
       "  </tbody>\n",
       "</table>\n",
       "</div>"
      ],
      "text/plain": [
       "             A          B          C          D  Left Skew  Multimodal  \\\n",
       "131        NaN        NaN        NaN        NaN        NaN   70.623289   \n",
       "51   60.780544  67.600037  44.067535  54.436214       13.4   48.054349   \n",
       "81   44.536195  62.042723  67.026176  49.220052       27.7   51.102779   \n",
       "16   41.224972  64.451956  51.635171  45.745160       15.7   55.066509   \n",
       "130        NaN        NaN        NaN        NaN        NaN   72.334656   \n",
       "36   50.475887  61.603100  64.656774  47.396334       29.9   52.203127   \n",
       "156        NaN        NaN        NaN        NaN        NaN   71.131315   \n",
       "167        NaN        NaN        NaN        NaN        NaN   74.983422   \n",
       "128        NaN        NaN        NaN        NaN        NaN   67.906482   \n",
       "33   50.740454  73.122864  78.947472  45.893531       25.7   50.348425   \n",
       "\n",
       "          IQ20       IQ100  \n",
       "131        NaN         NaN  \n",
       "51         NaN  107.472467  \n",
       "81         NaN   87.491479  \n",
       "16   94.079305  105.352164  \n",
       "130        NaN         NaN  \n",
       "36         NaN   93.600727  \n",
       "156        NaN         NaN  \n",
       "167        NaN         NaN  \n",
       "128        NaN         NaN  \n",
       "33         NaN   69.763146  "
      ]
     },
     "execution_count": 3,
     "metadata": {},
     "output_type": "execute_result"
    }
   ],
   "source": [
    "df = pd.read_csv('Histograms.csv')\n",
    "df.sample(10)"
   ]
  },
  {
   "cell_type": "markdown",
   "id": "5d96d65a",
   "metadata": {},
   "source": [
    "<h2 style=\"color:red\">Central Tendency</h2>"
   ]
  },
  {
   "cell_type": "markdown",
   "id": "0e588ffe",
   "metadata": {},
   "source": [
    "<b>We can notice that the center is near 50 . Most values will be close to 50, and values further away are rare.The distribution is roughly smmetric and the values fall between approximately 40 and 64</b>"
   ]
  },
  {
   "cell_type": "code",
   "execution_count": 80,
   "id": "2f4ccff8",
   "metadata": {},
   "outputs": [
    {
     "data": {
      "text/plain": [
       "(39.0, 65.0)"
      ]
     },
     "execution_count": 80,
     "metadata": {},
     "output_type": "execute_result"
    },
    {
     "data": {
      "image/png": "[encoded data removed]",
      "text/plain": [
       "<Figure size 936x576 with 1 Axes>"
      ]
     },
     "metadata": {
      "needs_background": "light"
     },
     "output_type": "display_data"
    }
   ],
   "source": [
    "plt.figure(figsize=(13,8))\n",
    "sns.histplot(df['A'],bins='auto')\n",
    "plt.figtext(0.78,0.79,df['A'].describe().loc[['mean','count']].to_string())\n",
    "plt.xlabel('A')\n",
    "plt.ylabel('Frequency')\n",
    "plt.title('Histogram of A')\n",
    "plt.xlim(39,65)"
   ]
  },
  {
   "cell_type": "markdown",
   "id": "54445222",
   "metadata": {},
   "source": [
    "<b>A difference in means shifts the distributions horizontally along the X-axis</b>"
   ]
  },
  {
   "cell_type": "code",
   "execution_count": 84,
   "id": "5f46bb5a",
   "metadata": {},
   "outputs": [
    {
     "data": {
      "text/plain": [
       "<matplotlib.legend.Legend at 0x1dd8df0b430>"
      ]
     },
     "execution_count": 84,
     "metadata": {},
     "output_type": "execute_result"
    },
    {
     "data": {
      "image/png": "[encoded data removed]",
      "text/plain": [
       "<Figure size 936x576 with 1 Axes>"
      ]
     },
     "metadata": {
      "needs_background": "light"
     },
     "output_type": "display_data"
    }
   ],
   "source": [
    "plt.figure(figsize=(13,8))\n",
    "plt.hist(df['A'],bins='auto',alpha=0.5,label='A')\n",
    "plt.hist(df['B'],bins='auto',alpha=0.5,label='B')\n",
    "plt.title('Histogram of A, B')\n",
    "plt.xlabel('Data')\n",
    "plt.ylabel('Frequency')\n",
    "plt.legend(loc='upper right')"
   ]
  },
  {
   "cell_type": "markdown",
   "id": "9053bbfd",
   "metadata": {},
   "source": [
    "<b>We can get an idea of the degree of overlapbetween groups</b>"
   ]
  },
  {
   "cell_type": "markdown",
   "id": "5aa5a111",
   "metadata": {},
   "source": [
    "<h2 style=\"color:red\">Variability</h2>"
   ]
  },
  {
   "cell_type": "markdown",
   "id": "ed381334",
   "metadata": {},
   "source": [
    "<b>When someone tell you that two groups have the same mean u1 = u2, it sounds like they are equivalent.However, after graphing the data the differences in the distributions becomes clear.</b><br><br>\n",
    "<b>In order to make valid comparaison , we should make sure that X-axis as well as Y-axis are similar in both graphs </b>"
   ]
  },
  {
   "cell_type": "code",
   "execution_count": 94,
   "id": "857eb953",
   "metadata": {},
   "outputs": [
    {
     "data": {
      "image/png": "[encoded data removed]",
      "text/plain": [
       "<Figure size 936x432 with 2 Axes>"
      ]
     },
     "metadata": {
      "needs_background": "light"
     },
     "output_type": "display_data"
    }
   ],
   "source": [
    "plt.figure(figsize=(13,6))\n",
    "#first subplot\n",
    "plt.subplot(1,2,1)\n",
    "sns.histplot(df['A'],bins='auto')\n",
    "plt.figtext(0.36,0.79,df['A'].describe().loc[['mean','count']].to_string())\n",
    "plt.ylabel('Frequency')\n",
    "plt.xlim(10,95)\n",
    "plt.ylim(0,30)\n",
    "#second subplot\n",
    "plt.subplot(1,2,2)\n",
    "sns.histplot(df['C'],bins='auto')\n",
    "plt.figtext(0.78,0.79,df['C'].describe().loc[['mean','count']].to_string())\n",
    "plt.ylabel('Frequency')\n",
    "plt.xlim(10,95)\n",
    "plt.ylim(0,30)\n",
    "\n",
    "plt.show()"
   ]
  },
  {
   "cell_type": "markdown",
   "id": "bad1a2a3",
   "metadata": {},
   "source": [
    "<b>The mean does not tell the entire story! Both histograms center on approximately the same value ~50,but the spread of values are different.Values for groupA fall between 40-60 while for group C the range is between 20-90</b>"
   ]
  },
  {
   "cell_type": "markdown",
   "id": "734b596a",
   "metadata": {},
   "source": [
    "<h2 style=\"color:red\">Skewed Distribution</h2>"
   ]
  },
  {
   "cell_type": "markdown",
   "id": "264cf908",
   "metadata": {},
   "source": [
    "<b>Histograms are an excellent tool for identifying the shape of the distribution</b><br>\n",
    "<b>Why the shape is important ? Simply because it can determine which measure of the central tendency best reflects the center of the data, that mean that , histograms inform us about the appropriate summary statistics for our data.\n",
    "</b>"
   ]
  },
  {
   "cell_type": "code",
   "execution_count": 104,
   "id": "9f166265",
   "metadata": {},
   "outputs": [
    {
     "data": {
      "text/plain": [
       "Text(0.5, 1.0, 'Histogram of Left Skew')"
      ]
     },
     "execution_count": 104,
     "metadata": {},
     "output_type": "execute_result"
    },
    {
     "data": {
      "image/png": "[encoded data removed]",
      "text/plain": [
       "<Figure size 936x576 with 1 Axes>"
      ]
     },
     "metadata": {
      "needs_background": "light"
     },
     "output_type": "display_data"
    }
   ],
   "source": [
    "plt.figure(figsize=(13,8))\n",
    "sns.histplot(df['Left Skew'],bins='auto')\n",
    "plt.figtext(0.79,0.79,df['Left Skew'].describe().loc[['mean','count']].to_string())\n",
    "plt.ylabel('Frequency')\n",
    "plt.title('Histogram of Left Skew')\n"
   ]
  },
  {
   "cell_type": "markdown",
   "id": "da0763ca",
   "metadata": {},
   "source": [
    "<b> for left-skewed distributions, the long tail extends to the\n",
    "left while most values cluster on the right.\n",
    "</b>"
   ]
  },
  {
   "cell_type": "markdown",
   "id": "0a6d9e01",
   "metadata": {},
   "source": [
    "<h2 style=\"color:red\">Identifying Outliers</h2>\n"
   ]
  },
  {
   "cell_type": "markdown",
   "id": "ea89176a",
   "metadata": {},
   "source": [
    "<b>Outliers are unusual values in the dataset.They represent extreme values.Outliers in any dataset must be investigated to be able to answer the following questions : \n",
    "    <ul>\n",
    "        <li>Are they data entry errors ?</li>\n",
    "        <li>Do they represent observations that occured under abnormal condistions ?</li>\n",
    "        <li>Are they legitimate observations that accurately describe the variability.</li>\n",
    "    </ul>\n",
    "It is important to investigate and deal with outliers.\n",
    "</b>"
   ]
  },
  {
   "cell_type": "code",
   "execution_count": 106,
   "id": "1950b7ad",
   "metadata": {},
   "outputs": [
    {
     "data": {
      "text/plain": [
       "Text(0.5, 1.0, 'Histogram of D')"
      ]
     },
     "execution_count": 106,
     "metadata": {},
     "output_type": "execute_result"
    },
    {
     "data": {
      "image/png": "[encoded data removed]",
      "text/plain": [
       "<Figure size 936x576 with 1 Axes>"
      ]
     },
     "metadata": {
      "needs_background": "light"
     },
     "output_type": "display_data"
    }
   ],
   "source": [
    "plt.figure(figsize=(13,8))\n",
    "sns.histplot(df['D'],bins='auto')\n",
    "plt.figtext(0.79,0.79,df['D'].describe().loc[['mean','count']].to_string())\n",
    "plt.ylabel('Frequency')\n",
    "plt.title('Histogram of D')\n"
   ]
  },
  {
   "cell_type": "markdown",
   "id": "3833762e",
   "metadata": {},
   "source": [
    "<b>In the above graph the isolated bar represent outliers</b>"
   ]
  },
  {
   "cell_type": "markdown",
   "id": "d909492f",
   "metadata": {},
   "source": [
    "<h2 style=\"color:red\">Multimodal Distributions</h2>\n"
   ]
  },
  {
   "cell_type": "markdown",
   "id": "26dd3e4c",
   "metadata": {},
   "source": [
    "<b>A multimodal distribution has more than one peak.</b>"
   ]
  },
  {
   "cell_type": "code",
   "execution_count": 107,
   "id": "ecdea2d5",
   "metadata": {
    "scrolled": true
   },
   "outputs": [
    {
     "data": {
      "text/plain": [
       "Text(0.5, 1.0, 'Histogram of Multimodal')"
      ]
     },
     "execution_count": 107,
     "metadata": {},
     "output_type": "execute_result"
    },
    {
     "data": {
      "image/png": "[encoded data removed]",
      "text/plain": [
       "<Figure size 936x576 with 1 Axes>"
      ]
     },
     "metadata": {
      "needs_background": "light"
     },
     "output_type": "display_data"
    }
   ],
   "source": [
    "plt.figure(figsize=(13,8))\n",
    "sns.histplot(df['Multimodal'],bins='auto')\n",
    "plt.figtext(0.79,0.79,df['Multimodal'].describe().loc[['mean','count']].to_string())\n",
    "plt.ylabel('Frequency')\n",
    "plt.title('Histogram of Multimodal')\n"
   ]
  },
  {
   "cell_type": "markdown",
   "id": "76ee906b",
   "metadata": {},
   "source": [
    "<b>That the benefits of graphing the data!</b>"
   ]
  },
  {
   "cell_type": "markdown",
   "id": "2eefb95b",
   "metadata": {},
   "source": [
    "<h2 style=\"color:red\">Comparing Distributions between Groups\n",
    "</h2>\n"
   ]
  },
  {
   "cell_type": "markdown",
   "id": "7ab55877",
   "metadata": {},
   "source": [
    "<b>To compare distributions between groups using histograms, We’ll\n",
    "need both a continuous variable and a categorical variable. The categorical variable defines the groups in your data, such as male and female. The continuous variables are measurement</b>"
   ]
  },
  {
   "cell_type": "code",
   "execution_count": 113,
   "id": "c3e3b57f",
   "metadata": {},
   "outputs": [
    {
     "data": {
      "image/png": "[encoded data removed]",
      "text/plain": [
       "<Figure size 936x432 with 2 Axes>"
      ]
     },
     "metadata": {
      "needs_background": "light"
     },
     "output_type": "display_data"
    },
    {
     "data": {
      "image/png": "[encoded data removed]",
      "text/plain": [
       "<Figure size 936x432 with 2 Axes>"
      ]
     },
     "metadata": {
      "needs_background": "light"
     },
     "output_type": "display_data"
    }
   ],
   "source": [
    "plt.figure(figsize=(13,6))\n",
    "#first subplot\n",
    "plt.subplot(2,2,1)\n",
    "sns.histplot(df['A'],bins='auto')\n",
    "plt.figtext(0.36,0.79,df['A'].describe().loc[['mean','count']].to_string())\n",
    "plt.ylabel('Frequency')\n",
    "plt.xlim(10,95)\n",
    "plt.ylim(0,45)\n",
    "#second subplot\n",
    "plt.subplot(2,2,2)\n",
    "sns.histplot(df['B'],bins='auto')\n",
    "plt.figtext(0.78,0.79,df['B'].describe().loc[['mean','count']].to_string())\n",
    "plt.ylabel('Frequency')\n",
    "plt.xlim(10,95)\n",
    "plt.ylim(0,45)\n",
    "\n",
    "plt.show()\n",
    "\n",
    "plt.figure(figsize=(13,6))\n",
    "#third subplot\n",
    "plt.subplot(2,2,1)\n",
    "sns.histplot(df['C'],bins='auto')\n",
    "plt.figtext(0.36,0.79,df['C'].describe().loc[['mean','count']].to_string())\n",
    "plt.ylabel('Frequency')\n",
    "plt.xlim(10,95)\n",
    "plt.ylim(0,45)\n",
    "#fourth subplot\n",
    "plt.subplot(2,2,2)\n",
    "sns.histplot(df['D'],bins='auto')\n",
    "plt.figtext(0.78,0.79,df['D'].describe().loc[['mean','count']].to_string())\n",
    "plt.ylabel('Frequency')\n",
    "plt.xlim(10,95)\n",
    "plt.ylim(0,45)\n",
    "\n",
    "plt.show()"
   ]
  },
  {
   "cell_type": "markdown",
   "id": "af016349",
   "metadata": {},
   "source": [
    "<h2 style=\"color:red\">Histograms and Sample Size</h2>\n"
   ]
  },
  {
   "cell_type": "code",
   "execution_count": 120,
   "id": "30cafe3e",
   "metadata": {},
   "outputs": [
    {
     "data": {
      "image/png": "[encoded data removed]",
      "text/plain": [
       "<Figure size 1296x432 with 2 Axes>"
      ]
     },
     "metadata": {
      "needs_background": "light"
     },
     "output_type": "display_data"
    }
   ],
   "source": [
    "plt.figure(figsize=(18,6))\n",
    "#first subplot\n",
    "plt.subplot(1,2,1)\n",
    "sns.histplot(df['IQ20'],bins='auto')\n",
    "plt.figtext(0.39,0.79,df['IQ20'].describe().loc[['mean','count']].to_string())\n",
    "plt.ylabel('Frequency')\n",
    "#plt.xlim(10,95)\n",
    "#plt.ylim(0,30)\n",
    "#second subplot\n",
    "plt.subplot(1,2,2)\n",
    "sns.histplot(df['IQ100'],bins='auto')\n",
    "plt.figtext(0.81,0.79,df['IQ100'].describe().loc[['mean','count']].to_string())\n",
    "plt.ylabel('Frequency')\n",
    "#plt.xlim(10,95)\n",
    "#plt.ylim(0,30)\n",
    "\n",
    "plt.show()"
   ]
  },
  {
   "cell_type": "markdown",
   "id": "70693689",
   "metadata": {},
   "source": [
    "<b>It takes a large sample\n",
    "size to get a good representation of an entire distribution. When your\n",
    "sample size is less than 20, consider using an individual value plot.\n",
    "</b>"
   ]
  },
  {
   "cell_type": "code",
   "execution_count": null,
   "id": "10b77d1b",
   "metadata": {},
   "outputs": [],
   "source": []
  }
 ],
 "metadata": {
  "kernelspec": {
   "display_name": "Python 3 (ipykernel)",
   "language": "python",
   "name": "python3"
  },
  "language_info": {
   "codemirror_mode": {
    "name": "ipython",
    "version": 3
   },
   "file_extension": ".py",
   "mimetype": "text/x-python",
   "name": "python",
   "nbconvert_exporter": "python",
   "pygments_lexer": "ipython3",
   "version": "3.9.7"
  }
 },
 "nbformat": 4,
 "nbformat_minor": 5
}
